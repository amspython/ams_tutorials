{
 "cells": [
  {
   "cell_type": "code",
   "execution_count": null,
   "metadata": {
    "collapsed": false
   },
   "outputs": [],
   "source": [
    "\"\"\"Based heavily on Software Carpentary tutorial:\n",
    "https://github.com/story645/ccny_software_carpentary/blob/master/afternoon_session.ipynb\n",
    "\"\"\"\n",
    "import pandas as pd\n",
    "#check which version of pandas is being used\n",
    "pd.__version__"
   ]
  },
  {
   "cell_type": "code",
   "execution_count": null,
   "metadata": {
    "collapsed": true
   },
   "outputs": [],
   "source": [
    "\"\"\"load in Monthly Global Historical Climatology \n",
    "Network(GHCN) Data for New York City\n",
    "\"\"\"\n",
    "ghcn = pd.read_csv(\"nyc_2005_2015.csv\")"
   ]
  },
  {
   "cell_type": "code",
   "execution_count": null,
   "metadata": {
    "collapsed": false
   },
   "outputs": [],
   "source": [
    "ghcn"
   ]
  },
  {
   "cell_type": "code",
   "execution_count": null,
   "metadata": {
    "collapsed": false
   },
   "outputs": [],
   "source": [
    "#view the first 5 rows of the data\n",
    "ghcn.head()"
   ]
  },
  {
   "cell_type": "code",
   "execution_count": null,
   "metadata": {
    "collapsed": false
   },
   "outputs": [],
   "source": [
    "#view last 5\n",
    "ghcn.tail()"
   ]
  },
  {
   "cell_type": "code",
   "execution_count": null,
   "metadata": {
    "collapsed": false
   },
   "outputs": [],
   "source": [
    "#can specifiy\n",
    "ghcn.head(3)"
   ]
  },
  {
   "cell_type": "code",
   "execution_count": null,
   "metadata": {
    "collapsed": false
   },
   "outputs": [],
   "source": [
    "\"\"\"pandas uses numpy as its underlying structure\n",
    "and so has numpy attributes like shape\"\"\"\n",
    "ghcn.shape"
   ]
  },
  {
   "cell_type": "code",
   "execution_count": null,
   "metadata": {
    "collapsed": false
   },
   "outputs": [],
   "source": [
    "#get a columnwise summary of the data\n",
    "ghcn.info()"
   ]
  },
  {
   "cell_type": "code",
   "execution_count": null,
   "metadata": {
    "collapsed": false
   },
   "outputs": [],
   "source": [
    "#just the datatype of each column\n",
    "ghcn.dtypes"
   ]
  },
  {
   "cell_type": "code",
   "execution_count": null,
   "metadata": {
    "collapsed": false
   },
   "outputs": [],
   "source": [
    "#restrict to first entries of just one column\n",
    "ghcn['STATION_NAME'].head(4)"
   ]
  },
  {
   "cell_type": "code",
   "execution_count": null,
   "metadata": {
    "collapsed": false
   },
   "outputs": [],
   "source": [
    "#can also use dot notation\n",
    "ghcn.STATION_NAME.head(4)"
   ]
  },
  {
   "cell_type": "markdown",
   "metadata": {},
   "source": [
    "Indexing\n",
    "===="
   ]
  },
  {
   "cell_type": "code",
   "execution_count": null,
   "metadata": {
    "collapsed": false
   },
   "outputs": [],
   "source": [
    "#multiple columns?\n",
    "ghcn['TSNW', 'MNTM']"
   ]
  },
  {
   "cell_type": "code",
   "execution_count": null,
   "metadata": {
    "collapsed": false
   },
   "outputs": [],
   "source": [
    "#Instead list of columns\n",
    "ghcn[['TSNW','MNTM']].head()"
   ]
  },
  {
   "cell_type": "code",
   "execution_count": null,
   "metadata": {
    "collapsed": false
   },
   "outputs": [],
   "source": [
    "#order dictates display\n",
    "ghcn[['MNTM','TSNW']].head()"
   ]
  },
  {
   "cell_type": "code",
   "execution_count": null,
   "metadata": {
    "collapsed": false
   },
   "outputs": [],
   "source": [
    "#supports numpy slicing\n",
    "ghcn[['MNTM','TSNW']][5:15:2]"
   ]
  },
  {
   "cell_type": "code",
   "execution_count": null,
   "metadata": {
    "collapsed": true
   },
   "outputs": [],
   "source": [
    "#COPY IS EXPLICIT\n",
    "ghcn2 = ghcn.copy()"
   ]
  },
  {
   "cell_type": "code",
   "execution_count": null,
   "metadata": {
    "collapsed": false
   },
   "outputs": [],
   "source": [
    "ghcn2['MNTM'][:3]=-9088"
   ]
  },
  {
   "cell_type": "code",
   "execution_count": null,
   "metadata": {
    "collapsed": false
   },
   "outputs": [],
   "source": [
    "ghcn['MNTM'][:3]"
   ]
  },
  {
   "cell_type": "code",
   "execution_count": null,
   "metadata": {
    "collapsed": false
   },
   "outputs": [],
   "source": [
    "ghcn2['MNTM'][:3]"
   ]
  },
  {
   "cell_type": "code",
   "execution_count": 118,
   "metadata": {
    "collapsed": false
   },
   "outputs": [
    {
     "name": "stdout",
     "output_type": "stream",
     "text": [
      "0    NOT A COPY\n",
      "1    NOT A COPY\n",
      "2    NOT A COPY\n",
      "Name: MNTM, dtype: object\n"
     ]
    }
   ],
   "source": [
    "#assignment isn't copy\n",
    "ghcn3 = ghcn2\n",
    "ghcn3['MNTM'][:3]=\"NOT A COPY\"\n",
    "print ghcn2['MNTM'][:3]"
   ]
  },
  {
   "cell_type": "markdown",
   "metadata": {
    "collapsed": true
   },
   "source": [
    "use whos to see which variables are currently in the workspace\n",
    "\n",
    "must be in its own cell (not pandas specific)"
   ]
  },
  {
   "cell_type": "code",
   "execution_count": null,
   "metadata": {
    "collapsed": false
   },
   "outputs": [],
   "source": [
    "whos"
   ]
  },
  {
   "cell_type": "code",
   "execution_count": null,
   "metadata": {
    "collapsed": false
   },
   "outputs": [],
   "source": [
    "\"\"\"use index based selections->\n",
    "under the hood it's more efficient\n",
    "doesn't copy the data for the subset\n",
    "is a view on the data\"\"\"\n",
    "ghcn.loc[5:15:2, ['MNTM', 'TSWN']]"
   ]
  },
  {
   "cell_type": "code",
   "execution_count": null,
   "metadata": {
    "collapsed": false
   },
   "outputs": [],
   "source": [
    "#can also be used for columns\n",
    "ghcn.loc[5:15:2,'TSNW':'MNTM']"
   ]
  },
  {
   "cell_type": "code",
   "execution_count": null,
   "metadata": {
    "collapsed": false
   },
   "outputs": [],
   "source": [
    "#view column names\n",
    "ghcn.columns"
   ]
  },
  {
   "cell_type": "code",
   "execution_count": null,
   "metadata": {
    "collapsed": false,
    "scrolled": true
   },
   "outputs": [],
   "source": [
    "#pure numerical indexing (rows, cols)\n",
    "ghcn.iloc[5:15:2, 4:7]"
   ]
  },
  {
   "cell_type": "code",
   "execution_count": null,
   "metadata": {
    "collapsed": false
   },
   "outputs": [],
   "source": [
    "# use np.r_ to build non sequential slice objects\n",
    "import numpy as np\n",
    "ghcn.iloc[np.r_[0,30:36:2,70],4:7]"
   ]
  },
  {
   "cell_type": "markdown",
   "metadata": {},
   "source": [
    "Summary Statistics\n",
    "=========="
   ]
  },
  {
   "cell_type": "code",
   "execution_count": null,
   "metadata": {
    "collapsed": false
   },
   "outputs": [],
   "source": [
    "#get counts of each max snowfall\n",
    "ghcn['TSNW'].value_counts()"
   ]
  },
  {
   "cell_type": "code",
   "execution_count": null,
   "metadata": {
    "collapsed": false
   },
   "outputs": [],
   "source": [
    "#get more summary statistics\n",
    "print ghcn['TSNW'].min()\n",
    "print ghcn['TSNW'].mean()\n",
    "print ghcn['TSNW'].max()"
   ]
  },
  {
   "cell_type": "code",
   "execution_count": null,
   "metadata": {
    "collapsed": false
   },
   "outputs": [],
   "source": [
    "#mask missing values (this is numpy functionality)\n",
    "ghcn[ghcn==-9999]=np.nan"
   ]
  },
  {
   "cell_type": "code",
   "execution_count": null,
   "metadata": {
    "collapsed": false
   },
   "outputs": [],
   "source": [
    "print ghcn['TSNW'].min()\n",
    "print ghcn['TSNW'].mean()\n",
    "print ghcn['TSNW'].max()"
   ]
  },
  {
   "cell_type": "code",
   "execution_count": null,
   "metadata": {
    "collapsed": false
   },
   "outputs": [],
   "source": [
    "#get all the summary stats\n",
    "ghcn['TSNW'].describe()"
   ]
  },
  {
   "cell_type": "code",
   "execution_count": null,
   "metadata": {
    "collapsed": false
   },
   "outputs": [],
   "source": [
    "#summary for entire dataset\n",
    "ghcn.describe()"
   ]
  },
  {
   "cell_type": "code",
   "execution_count": null,
   "metadata": {
    "collapsed": false
   },
   "outputs": [],
   "source": [
    "#include string values \n",
    "ghcn.describe(include='all')"
   ]
  },
  {
   "cell_type": "code",
   "execution_count": null,
   "metadata": {
    "collapsed": false
   },
   "outputs": [],
   "source": [
    "#restrict by type\n",
    "ghcn.describe(include=['object'])"
   ]
  },
  {
   "cell_type": "markdown",
   "metadata": {},
   "source": [
    "Fixing dates\n",
    "======="
   ]
  },
  {
   "cell_type": "code",
   "execution_count": null,
   "metadata": {
    "collapsed": false
   },
   "outputs": [],
   "source": [
    "ghcn['DATE'].head()"
   ]
  },
  {
   "cell_type": "code",
   "execution_count": null,
   "metadata": {
    "collapsed": false
   },
   "outputs": [],
   "source": [
    "#use Python datetime strptime\n",
    "from datetime import datetime \n",
    "\"\"\"the apply method applies the function \n",
    "that's passed inas an argument to every \n",
    "element in the column it's applied to\n",
    "\"\"\"\n",
    "def ds2dt(x):\n",
    "    return datetime.strptime(str(x),'%Y%m%d')\n",
    "\n",
    "parsed_date = ghcn['DATE'].apply(ds2dt)"
   ]
  },
  {
   "cell_type": "code",
   "execution_count": null,
   "metadata": {
    "collapsed": false
   },
   "outputs": [],
   "source": [
    "print parsed_date[:5]"
   ]
  },
  {
   "cell_type": "code",
   "execution_count": null,
   "metadata": {
    "collapsed": true
   },
   "outputs": [],
   "source": [
    "ghcn['DATE'] = parsed_date"
   ]
  },
  {
   "cell_type": "code",
   "execution_count": null,
   "metadata": {
    "collapsed": false
   },
   "outputs": [],
   "source": [
    "ghcn['DATE'].head()"
   ]
  },
  {
   "cell_type": "code",
   "execution_count": null,
   "metadata": {
    "collapsed": false
   },
   "outputs": [],
   "source": [
    "ghcn.describe()"
   ]
  },
  {
   "cell_type": "code",
   "execution_count": null,
   "metadata": {
    "collapsed": false
   },
   "outputs": [],
   "source": [
    "ghcn.describe(include=['datetime'])"
   ]
  },
  {
   "cell_type": "markdown",
   "metadata": {
    "collapsed": true
   },
   "source": [
    "Filtering\n",
    "====="
   ]
  },
  {
   "cell_type": "code",
   "execution_count": null,
   "metadata": {
    "collapsed": false
   },
   "outputs": [],
   "source": [
    "#boolean/conditional\n",
    "ghcn[ghcn['TSNW']>400]"
   ]
  },
  {
   "cell_type": "code",
   "execution_count": null,
   "metadata": {
    "collapsed": false
   },
   "outputs": [],
   "source": [
    "#compound boolean\n",
    "ghcn[(ghcn['TSNW']>400) & (ghcn['MNTM']<0)]"
   ]
  },
  {
   "cell_type": "code",
   "execution_count": null,
   "metadata": {
    "collapsed": false
   },
   "outputs": [],
   "source": [
    "#string based boolean mask\n",
    "ghcn['STATION_NAME'].str.match('CENTERPORT NY US') # boolean mask"
   ]
  },
  {
   "cell_type": "code",
   "execution_count": null,
   "metadata": {
    "collapsed": false
   },
   "outputs": [],
   "source": [
    "#pull out data using mask\n",
    "mask = ghcn['STATION_NAME'].str.match('CENTERPORT NY US')\n",
    "ghcn[mask]"
   ]
  },
  {
   "cell_type": "code",
   "execution_count": null,
   "metadata": {
    "collapsed": false
   },
   "outputs": [],
   "source": [
    "#list of stations\n",
    "ghcn['STATION_NAME'].unique()"
   ]
  },
  {
   "cell_type": "code",
   "execution_count": null,
   "metadata": {
    "collapsed": false
   },
   "outputs": [],
   "source": [
    "#any station in list\n",
    "stations = ['MIDDLE VILLAGE 0.5 SW NY US',\n",
    "            'STATEN ISLAND 4.5 SSE NY US' ]\n",
    "ghcn[ghcn['STATION_NAME'].isin(stations)]"
   ]
  },
  {
   "cell_type": "code",
   "execution_count": null,
   "metadata": {
    "collapsed": false,
    "scrolled": true
   },
   "outputs": [],
   "source": [
    "#anything near an airport\n",
    "ghcn[ghcn['STATION_NAME'].str.contains(\"AIRPORT\")]"
   ]
  },
  {
   "cell_type": "markdown",
   "metadata": {},
   "source": [
    "Sorting\n",
    "===="
   ]
  },
  {
   "cell_type": "code",
   "execution_count": null,
   "metadata": {
    "collapsed": false
   },
   "outputs": [],
   "source": [
    "ghcn['TSNW'].order()"
   ]
  },
  {
   "cell_type": "code",
   "execution_count": null,
   "metadata": {
    "collapsed": false
   },
   "outputs": [],
   "source": [
    "#sort by columns\n",
    "ghcn.sort_index(by=['TSNW', 'EMXP']).head()"
   ]
  },
  {
   "cell_type": "markdown",
   "metadata": {},
   "source": [
    "Grouping\n",
    "====="
   ]
  },
  {
   "cell_type": "code",
   "execution_count": null,
   "metadata": {
    "collapsed": true
   },
   "outputs": [],
   "source": [
    "#order the data by Station\n",
    "by_station = ghcn.groupby(\"STATION_NAME\")"
   ]
  },
  {
   "cell_type": "code",
   "execution_count": null,
   "metadata": {
    "collapsed": false
   },
   "outputs": [],
   "source": [
    "by_station"
   ]
  },
  {
   "cell_type": "code",
   "execution_count": null,
   "metadata": {
    "collapsed": false
   },
   "outputs": [],
   "source": [
    "by_station.count() #how many of each record"
   ]
  },
  {
   "cell_type": "code",
   "execution_count": null,
   "metadata": {
    "collapsed": false
   },
   "outputs": [],
   "source": [
    "by_station.size()"
   ]
  },
  {
   "cell_type": "code",
   "execution_count": null,
   "metadata": {
    "collapsed": false
   },
   "outputs": [],
   "source": [
    "#how much total snow in each station?\n",
    "by_station['TSNW'].sum()"
   ]
  },
  {
   "cell_type": "code",
   "execution_count": null,
   "metadata": {
    "collapsed": false
   },
   "outputs": [],
   "source": [
    "#average temperature\n",
    "by_station['MNTM'].mean()"
   ]
  },
  {
   "cell_type": "code",
   "execution_count": null,
   "metadata": {
    "collapsed": false
   },
   "outputs": [],
   "source": [
    "#can also do summary\n",
    "by_station['TSNW'].describe()"
   ]
  },
  {
   "cell_type": "code",
   "execution_count": null,
   "metadata": {
    "collapsed": false
   },
   "outputs": [],
   "source": [
    "#and make it more readable using unstack\n",
    "by_station['TSNW'].describe().unstack()"
   ]
  },
  {
   "cell_type": "code",
   "execution_count": null,
   "metadata": {
    "collapsed": false
   },
   "outputs": [],
   "source": [
    "#can subclass groups\n",
    "groups = ['DATE', 'STATION_NAME']\n",
    "ghcn.groupby(groups)['TSNW'].sum().unstack()"
   ]
  },
  {
   "cell_type": "code",
   "execution_count": null,
   "metadata": {
    "collapsed": false
   },
   "outputs": [],
   "source": [
    "\"\"\"aggregate by month:\n",
    ".map(lambda x)pulls out the months \n",
    "of the date column\"\"\"\n",
    "months = ghcn['DATE'].map(lambda x: x.month)\n",
    "ghcn.groupby(months).mean()"
   ]
  },
  {
   "cell_type": "code",
   "execution_count": null,
   "metadata": {
    "collapsed": false
   },
   "outputs": [],
   "source": [
    "#combine date and station\n",
    "new_groups = ['STATION_NAME', months]\n",
    "ghcn.groupby(new_groups)['TSNW'].sum().unstack()"
   ]
  },
  {
   "cell_type": "code",
   "execution_count": null,
   "metadata": {
    "collapsed": false
   },
   "outputs": [],
   "source": [
    "snow = ghcn.groupby(new_groups)['TSNW'].sum().unstack()\n",
    "print snow.shape"
   ]
  },
  {
   "cell_type": "code",
   "execution_count": null,
   "metadata": {
    "collapsed": false
   },
   "outputs": [],
   "source": [
    "#flip for graphing \n",
    "snow_graph = snow.T\n",
    "print snow_graph.shape"
   ]
  },
  {
   "cell_type": "code",
   "execution_count": null,
   "metadata": {
    "collapsed": false
   },
   "outputs": [],
   "source": [
    "%matplotlib inline\n",
    "\n",
    "import matplotlib.pyplot as plt\n",
    "import calendar\n",
    "fig = plt.figure(figsize=(20,15))\n",
    "ax = fig.add_subplot(2,1,1)\n",
    "\n",
    "im = ax.matshow(snow_graph, cmap='Blues')\n",
    "\n",
    "station_names = ghcn['STATION_NAME'].unique()\n",
    "ax.set_xticks(range(len(station_names)))\n",
    "ax.set_xticklabels(station_names, rotation=90)\n",
    "ax.set_yticks(np.arange(0,12))\n",
    "ax.set_yticklabels(calendar.month_name[1:])\n",
    "cb = fig.colorbar(im, ax=ax,pad=.01, fraction=.020)\n",
    "cb.set_label(\"Total Snowfall\")"
   ]
  },
  {
   "cell_type": "code",
   "execution_count": 122,
   "metadata": {
    "collapsed": false
   },
   "outputs": [
    {
     "data": {
      "text/plain": [
       "<matplotlib.text.Text at 0x136d6358>"
      ]
     },
     "execution_count": 122,
     "metadata": {},
     "output_type": "execute_result"
    },
    {
     "data": {
      "image/png": "[encoded data removed]",
      "text/plain": [
       "<matplotlib.figure.Figure at 0x131b6e80>"
      ]
     },
     "metadata": {},
     "output_type": "display_data"
    }
   ],
   "source": [
    "fig = plt.figure(figsize=(20,5))\n",
    "ax = fig.add_subplot(1,1,1)\n",
    "\n",
    "for s in snow_graph:\n",
    "    ax.plot(snow_graph[s].index,\n",
    "            snow_graph[s].values, '-',label=s)\n",
    "    \n",
    "ax.legend(bbox_to_anchor=(0.5, 1.), \n",
    "          loc=8, ncol=4)\n",
    "ax.set_xticks(np.arange(1,13))\n",
    "ax.set_xticklabels(calendar.month_name[1:], \n",
    "                   rotation=15, fontsize=20)\n",
    "ax.set_xlim((1,12))\n",
    "ax.set_ylabel(\"Total Snowfall\", fontsize=20)"
   ]
  },
  {
   "cell_type": "markdown",
   "metadata": {},
   "source": [
    "Pivot Table\n",
    "======"
   ]
  },
  {
   "cell_type": "code",
   "execution_count": null,
   "metadata": {
    "collapsed": false
   },
   "outputs": [],
   "source": [
    "#create a pivot table to do advanced grouping\n",
    "ghcn_p = ghcn.pivot_table(index=months, \n",
    "            columns='STATION_NAME', \n",
    "            aggfunc={'TSNW':'sum', 'MNTM':'mean'})"
   ]
  },
  {
   "cell_type": "code",
   "execution_count": null,
   "metadata": {
    "collapsed": false
   },
   "outputs": [],
   "source": [
    "#doesn't like months, so let's add a column\n",
    "ghcn['MONTH'] = ghcn['DATE'].map(lambda x: x.month)\n",
    "ghcn[['DATE', 'MONTH']].head()\n"
   ]
  },
  {
   "cell_type": "code",
   "execution_count": null,
   "metadata": {
    "collapsed": false
   },
   "outputs": [],
   "source": [
    "\"\"\"index becomes the row agg function is how \n",
    "data in each subset->(Station, Date) is analyzed:\n",
    "* first argument is the column being analyzed\n",
    "* second is aggregating function:\n",
    "    * total snow\n",
    "    * average tmp\n",
    "\"\"\"\n",
    "#now fancy grouping\n",
    "ghcn_pivot = ghcn.pivot_table(index='MONTH', \n",
    "            columns='STATION_NAME', \n",
    "            aggfunc={'TSNW':'sum', 'MNTM':'mean'})"
   ]
  },
  {
   "cell_type": "code",
   "execution_count": null,
   "metadata": {
    "collapsed": false
   },
   "outputs": [],
   "source": [
    "ghcn_pivot"
   ]
  },
  {
   "cell_type": "markdown",
   "metadata": {},
   "source": [
    "Plot table\n",
    "======"
   ]
  },
  {
   "cell_type": "code",
   "execution_count": null,
   "metadata": {
    "collapsed": false
   },
   "outputs": [],
   "source": [
    "ghcn_pivot['TSNW'].plot()"
   ]
  },
  {
   "cell_type": "code",
   "execution_count": null,
   "metadata": {
    "collapsed": false
   },
   "outputs": [],
   "source": [
    "import matplotlib.pyplot as plt\n",
    "\n",
    "fig = plt.figure(figsize=(20,5))\n",
    "ax = fig.add_subplot(1,1,1)\n",
    "\n",
    "ghcn_pivot['TSNW'].plot(ax=ax)\n",
    "\n",
    "ax.legend(bbox_to_anchor=(0.5, 1.), \n",
    "          loc=8, ncol=4)\n",
    "ax.set_xticks(np.arange(1,13))\n",
    "ax.set_xticklabels(calendar.month_name[1:], \n",
    "                   rotation=15, fontsize=20)\n",
    "ax.set_xlim((1,12))\n",
    "ax.set_ylabel(\"Total Snowfall\", fontsize=20)"
   ]
  },
  {
   "cell_type": "code",
   "execution_count": null,
   "metadata": {
    "collapsed": false
   },
   "outputs": [],
   "source": [
    "snow.values"
   ]
  },
  {
   "cell_type": "markdown",
   "metadata": {},
   "source": [
    "Correlation\n"
   ]
  },
  {
   "cell_type": "code",
   "execution_count": null,
   "metadata": {
    "collapsed": false
   },
   "outputs": [],
   "source": [
    "ghcn.corr()"
   ]
  },
  {
   "cell_type": "code",
   "execution_count": 119,
   "metadata": {
    "collapsed": false
   },
   "outputs": [
    {
     "data": {
      "text/html": [
       "<div>\n",
       "<table border=\"1\" class=\"dataframe\">\n",
       "  <thead>\n",
       "    <tr style=\"text-align: right;\">\n",
       "      <th></th>\n",
       "      <th>EMXP</th>\n",
       "      <th>MXSD</th>\n",
       "      <th>TPCP</th>\n",
       "      <th>TSNW</th>\n",
       "      <th>EMXT</th>\n",
       "      <th>EMNT</th>\n",
       "      <th>MMXT</th>\n",
       "      <th>MMNT</th>\n",
       "    </tr>\n",
       "  </thead>\n",
       "  <tbody>\n",
       "    <tr>\n",
       "      <th>EMXP</th>\n",
       "      <td>1.000000</td>\n",
       "      <td>0.045299</td>\n",
       "      <td>0.818845</td>\n",
       "      <td>0.065864</td>\n",
       "      <td>0.112226</td>\n",
       "      <td>0.102773</td>\n",
       "      <td>0.094833</td>\n",
       "      <td>0.101745</td>\n",
       "    </tr>\n",
       "    <tr>\n",
       "      <th>MXSD</th>\n",
       "      <td>0.045299</td>\n",
       "      <td>1.000000</td>\n",
       "      <td>0.078553</td>\n",
       "      <td>0.876812</td>\n",
       "      <td>-0.518933</td>\n",
       "      <td>-0.496463</td>\n",
       "      <td>-0.528504</td>\n",
       "      <td>-0.519803</td>\n",
       "    </tr>\n",
       "    <tr>\n",
       "      <th>TPCP</th>\n",
       "      <td>0.818845</td>\n",
       "      <td>0.078553</td>\n",
       "      <td>1.000000</td>\n",
       "      <td>0.110570</td>\n",
       "      <td>0.079403</td>\n",
       "      <td>0.102248</td>\n",
       "      <td>0.077226</td>\n",
       "      <td>0.101086</td>\n",
       "    </tr>\n",
       "    <tr>\n",
       "      <th>TSNW</th>\n",
       "      <td>0.065864</td>\n",
       "      <td>0.876812</td>\n",
       "      <td>0.110570</td>\n",
       "      <td>1.000000</td>\n",
       "      <td>-0.549729</td>\n",
       "      <td>-0.476868</td>\n",
       "      <td>-0.519350</td>\n",
       "      <td>-0.497323</td>\n",
       "    </tr>\n",
       "    <tr>\n",
       "      <th>EMXT</th>\n",
       "      <td>0.112226</td>\n",
       "      <td>-0.518933</td>\n",
       "      <td>0.079403</td>\n",
       "      <td>-0.549729</td>\n",
       "      <td>1.000000</td>\n",
       "      <td>0.871276</td>\n",
       "      <td>0.943890</td>\n",
       "      <td>0.910294</td>\n",
       "    </tr>\n",
       "    <tr>\n",
       "      <th>EMNT</th>\n",
       "      <td>0.102773</td>\n",
       "      <td>-0.496463</td>\n",
       "      <td>0.102248</td>\n",
       "      <td>-0.476868</td>\n",
       "      <td>0.871276</td>\n",
       "      <td>1.000000</td>\n",
       "      <td>0.956555</td>\n",
       "      <td>0.975396</td>\n",
       "    </tr>\n",
       "    <tr>\n",
       "      <th>MMXT</th>\n",
       "      <td>0.094833</td>\n",
       "      <td>-0.528504</td>\n",
       "      <td>0.077226</td>\n",
       "      <td>-0.519350</td>\n",
       "      <td>0.943890</td>\n",
       "      <td>0.956555</td>\n",
       "      <td>1.000000</td>\n",
       "      <td>0.985793</td>\n",
       "    </tr>\n",
       "    <tr>\n",
       "      <th>MMNT</th>\n",
       "      <td>0.101745</td>\n",
       "      <td>-0.519803</td>\n",
       "      <td>0.101086</td>\n",
       "      <td>-0.497323</td>\n",
       "      <td>0.910294</td>\n",
       "      <td>0.975396</td>\n",
       "      <td>0.985793</td>\n",
       "      <td>1.000000</td>\n",
       "    </tr>\n",
       "  </tbody>\n",
       "</table>\n",
       "</div>"
      ],
      "text/plain": [
       "          EMXP      MXSD      TPCP      TSNW      EMXT      EMNT      MMXT  \\\n",
       "EMXP  1.000000  0.045299  0.818845  0.065864  0.112226  0.102773  0.094833   \n",
       "MXSD  0.045299  1.000000  0.078553  0.876812 -0.518933 -0.496463 -0.528504   \n",
       "TPCP  0.818845  0.078553  1.000000  0.110570  0.079403  0.102248  0.077226   \n",
       "TSNW  0.065864  0.876812  0.110570  1.000000 -0.549729 -0.476868 -0.519350   \n",
       "EMXT  0.112226 -0.518933  0.079403 -0.549729  1.000000  0.871276  0.943890   \n",
       "EMNT  0.102773 -0.496463  0.102248 -0.476868  0.871276  1.000000  0.956555   \n",
       "MMXT  0.094833 -0.528504  0.077226 -0.519350  0.943890  0.956555  1.000000   \n",
       "MMNT  0.101745 -0.519803  0.101086 -0.497323  0.910294  0.975396  0.985793   \n",
       "\n",
       "          MMNT  \n",
       "EMXP  0.101745  \n",
       "MXSD -0.519803  \n",
       "TPCP  0.101086  \n",
       "TSNW -0.497323  \n",
       "EMXT  0.910294  \n",
       "EMNT  0.975396  \n",
       "MMXT  0.985793  \n",
       "MMNT  1.000000  "
      ]
     },
     "execution_count": 119,
     "metadata": {},
     "output_type": "execute_result"
    }
   ],
   "source": [
    "#exclude month\n",
    "ghcn_corr = ghcn.loc[:,'EMXP':'MMNT'].corr()\n",
    "ghcn_corr"
   ]
  },
  {
   "cell_type": "code",
   "execution_count": 120,
   "metadata": {
    "collapsed": false
   },
   "outputs": [
    {
     "data": {
      "text/plain": [
       "<matplotlib.colorbar.Colorbar instance at 0x0000000012FD0C88>"
      ]
     },
     "execution_count": 120,
     "metadata": {},
     "output_type": "execute_result"
    },
    {
     "data": {
      "image/png": "[encoded data removed]",
      "text/plain": [
       "<matplotlib.figure.Figure at 0x12bfccc0>"
      ]
     },
     "metadata": {},
     "output_type": "display_data"
    }
   ],
   "source": [
    "fig = plt.figure()\n",
    "ax = fig.add_subplot(1,1,1)\n",
    "\n",
    "im = ax.matshow(ghcn_corr,\n",
    "                cmap='RdBu', vmin=-1, vmax=1)\n",
    "ax.set_xticks(range(ghcn_corr.shape[0]))\n",
    "ax.set_yticks(range(ghcn_corr.shape[1]))\n",
    "ax.set_xticklabels(ghcn_corr.columns,rotation=90)\n",
    "ax.set_yticklabels(ghcn_corr.columns)\n",
    "\n",
    "fig.colorbar(im, ax=ax)"
   ]
  },
  {
   "cell_type": "code",
   "execution_count": 127,
   "metadata": {
    "collapsed": false
   },
   "outputs": [
    {
     "data": {
      "text/plain": [
       "<matplotlib.colorbar.Colorbar instance at 0x00000000143CDC48>"
      ]
     },
     "execution_count": 127,
     "metadata": {},
     "output_type": "execute_result"
    },
    {
     "data": {
      "image/png": "[encoded data removed]",
      "text/plain": [
       "<matplotlib.figure.Figure at 0x141a74e0>"
      ]
     },
     "metadata": {},
     "output_type": "display_data"
    }
   ],
   "source": [
    "fig = plt.figure()\n",
    "ax = fig.add_subplot(2,1,1)\n",
    "\n",
    "import matplotlib.colors as mcolors\n",
    "import matplotlib.cm as mcm\n",
    "\n",
    "cmap = mcm.RdBu\n",
    "norm = mcolors.BoundaryNorm([-1,-.5,0, .5, 1], cmap.N)\n",
    "\n",
    "im = ax.matshow(ghcn_corr,\n",
    "                cmap=cmap, norm=norm)\n",
    "ax.set_xticks(range(ghcn_corr.shape[0]))\n",
    "ax.set_yticks(range(ghcn_corr.shape[1]))\n",
    "ax.set_xticklabels(ghcn_corr.columns,rotation=90)\n",
    "ax.set_yticklabels(ghcn_corr.columns)\n",
    "ax2 = fig.add_subplot(2,1,1)\n",
    "\n",
    "fig.colorbar(im, ax=ax2)"
   ]
  }
 ],
 "metadata": {
  "kernelspec": {
   "display_name": "Python 2",
   "language": "python",
   "name": "python2"
  },
  "language_info": {
   "codemirror_mode": {
    "name": "ipython",
    "version": 2
   },
   "file_extension": ".py",
   "mimetype": "text/x-python",
   "name": "python",
   "nbconvert_exporter": "python",
   "pygments_lexer": "ipython2",
   "version": "2.7.11"
  }
 },
 "nbformat": 4,
 "nbformat_minor": 0
}
