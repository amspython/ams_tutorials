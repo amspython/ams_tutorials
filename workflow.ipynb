{
 "cells": [
  {
   "cell_type": "markdown",
   "metadata": {
    "slideshow": {
     "slide_type": "slide"
    }
   },
   "source": [
    "# Where I use Python\n",
    "\n",
    "City College of New York NOAA-CREST HIRES: (https://github.com/story645/EAS213)\n",
    " * High School Initiative in Remote Sensing of the Earth Systems Science and Technology\n",
    " * Students learn Python for remote sensing and data analysis & arcgis\n",
    " * Mentor 1-3 high school and sometimes undergrads: \n",
    "    * using 311 & weather to detect infrastructure failures\n",
    "    * comparing MODIS version 5 & 6 Fractional Snow Cover\n",
    "    * clustering weather states based on ICCP cloud data \n",
    "    * River delta flood inundation risk\n",
    "    * ..."
   ]
  },
  {
   "cell_type": "markdown",
   "metadata": {
    "slideshow": {
     "slide_type": "slide"
    }
   },
   "source": [
    "Graduate Center Digital Initiatives Digital Fellows (https://github.com/GCDigitalFellows)\n",
    " * “The Digital GC” — incorporating technology into core research and teaching missions\n",
    " * Project consulting and teaching workshops and bootcamp sessions\n",
    " * Services open to CUNY graduate students, faculty, and staff from any discipline\n",
    " * Collaborate on in house projects, like analysing what the NEH funds\n",
    " \n",
    "The Graduate Center, CUNY, graduate student in Computer Science\n",
    " * Visualizing probabilistic distributions of curves & surfaces \n",
    " * Long term probabilistic forecast evaluation: https://bitbucket.org/story645/libltf"
   ]
  },
  {
   "cell_type": "markdown",
   "metadata": {
    "slideshow": {
     "slide_type": "slide"
    }
   },
   "source": [
    "# How I use Python\n",
    "\n",
    "#### Package management: \n",
    "* conda, conda-forge, occasionally pip \n",
    "* never from source outside from my own work or specialized filetypes\n",
    "\n",
    "#### Editors:\n",
    "* Jupyter notebook, which often turn into slides using RISE\n",
    "* Spyder when coteaching with Matlab person (use JupyterLab when out of beta)\n",
    "* emacs (with astropy rec'd configurations) and sublime"
   ]
  },
  {
   "cell_type": "markdown",
   "metadata": {
    "slideshow": {
     "slide_type": "slide"
    }
   },
   "source": [
    "#### Packages:\n",
    "* must be conda/pip installable, reasonably documented, and well maintained/supported\n",
    "* prefer higher level libraries/low LOC in examples unless trying to teach specific skill\n",
    "* data science oriented: pandas, xarray (only this year), geopandas (maybe next), sklearn\n",
    "* lower level mostly for clean up/helper: matplotlib, basemap, scipy, numpy, requests\n",
    "* rely on the python standard library as much as possible within reason\n",
    "* some times libraries for pretty: cmocean, seaborn\n",
    "* package custom code as module/library and give students the api"
   ]
  },
  {
   "cell_type": "markdown",
   "metadata": {
    "slideshow": {
     "slide_type": "slide"
    }
   },
   "source": [
    "#### Collaborations:\n",
    "* github - publish notebooks & lectures, write papers, & give students EC for PRs/issues\n",
    "* chatting - gitter, gchat, whatsapp\n",
    "* discussions: blackboard, CUNY Academic Commons, piazza\n",
    "* collaborative note taking - google docs, http://etherpad.org/\n",
    "* creating conference posters - google presentation"
   ]
  }
 ],
 "metadata": {
  "celltoolbar": "Slideshow",
  "kernelspec": {
   "display_name": "Python 3",
   "language": "python",
   "name": "python3"
  },
  "language_info": {
   "codemirror_mode": {
    "name": "ipython",
    "version": 3
   },
   "file_extension": ".py",
   "mimetype": "text/x-python",
   "name": "python",
   "nbconvert_exporter": "python",
   "pygments_lexer": "ipython3",
   "version": "3.6.4"
  }
 },
 "nbformat": 4,
 "nbformat_minor": 2
}
