{
 "cells": [
  {
   "cell_type": "markdown",
   "metadata": {
    "slideshow": {
     "slide_type": "slide"
    }
   },
   "source": [
    "HIRES\n",
    "===\n",
    "![logo](data/cuny_crest_tiny11.png)\n",
    "The Consortium of the Science Research Mentoring Programs funded by the Pinkerton Foundation"
   ]
  },
  {
   "cell_type": "markdown",
   "metadata": {
    "slideshow": {
     "slide_type": "slide"
    }
   },
   "source": [
    "NYC High School Students\n",
    "---------------------------\n",
    "* racially & economically diverse\n",
    "* typically 10th grade - 12th grade\n",
    "* $800 stipend\n",
    "* 36 students"
   ]
  },
  {
   "cell_type": "markdown",
   "metadata": {
    "slideshow": {
     "slide_type": "slide"
    }
   },
   "source": [
    "Work with faculty mentors on research projects\n",
    "---------------------------------------------------\n",
    "* Remote Sensing\n",
    "* Climate\n",
    "* Urban Environment\n",
    "* etc. "
   ]
  },
  {
   "cell_type": "markdown",
   "metadata": {
    "slideshow": {
     "slide_type": "slide"
    }
   },
   "source": [
    "* Matlab - Remote Sensing\n",
    "* Python - Time Series Analysis\n",
    "* GIS - Spatial Statistics\n",
    "* Final project incorporates all three\n",
    "* Wednesday STEAM integration with theatre troupe\n",
    "* Afternoon research with mentor"
   ]
  },
  {
   "cell_type": "markdown",
   "metadata": {
    "slideshow": {
     "slide_type": "slide"
    }
   },
   "source": [
    "Python component requirements\n",
    "================\n",
    "* Tie into remote sensing, GIS, and earth and atmospheric science\n",
    "* Bring in weather or climate analysis\n",
    "* Be easy enough for students to get it running\n",
    "* Be free so they can work on it at home\n",
    "\n",
    "**Environment choice is critical!!!**"
   ]
  },
  {
   "cell_type": "markdown",
   "metadata": {
    "slideshow": {
     "slide_type": "slide"
    }
   },
   "source": [
    "Why does environment matter?\n",
    "==================\n",
    "![install](install.png)"
   ]
  },
  {
   "cell_type": "markdown",
   "metadata": {
    "slideshow": {
     "slide_type": "slide"
    }
   },
   "source": [
    "Simplify environment problem\n",
    "===============\n",
    "* Use Anaconda: http://docs.continuum.io/anaconda/pkg-docs\n",
    "    * supports all operating systems \n",
    "    * supports most scientific Python libraries\n",
    "    * includes IPython Notebook and Spyder\n",
    "* Or exploit IPython port forwarding\n",
    "    * set up server with environment on it\n",
    "    * set up port forwarding\n",
    "    * notebook open locally, code anywhere"
   ]
  },
  {
   "cell_type": "markdown",
   "metadata": {
    "slideshow": {
     "slide_type": "slide"
    }
   },
   "source": [
    "Why IPython notebook?\n",
    "=====================\n",
    "You're looking at one!"
   ]
  },
  {
   "cell_type": "code",
   "execution_count": null,
   "metadata": {
    "collapsed": false,
    "slideshow": {
     "slide_type": "slide"
    }
   },
   "outputs": [],
   "source": [
    "#Interactive code\n",
    "2+2"
   ]
  },
  {
   "cell_type": "code",
   "execution_count": null,
   "metadata": {
    "collapsed": false,
    "slideshow": {
     "slide_type": "-"
    }
   },
   "outputs": [],
   "source": [
    "3*6"
   ]
  },
  {
   "cell_type": "markdown",
   "metadata": {
    "slideshow": {
     "slide_type": "slide"
    }
   },
   "source": [
    "Temperature conversion\n",
    "===========\n",
    "1 Kelvin = 1 °Celsius = 9/5 °Fahrenheit\n",
    "* [°C] = [K] − 273.15\n"
   ]
  },
  {
   "cell_type": "code",
   "execution_count": null,
   "metadata": {
    "collapsed": false,
    "slideshow": {
     "slide_type": "-"
    }
   },
   "outputs": [],
   "source": [
    "#Convert 100 degrees Kelvin to Celsius:\n",
    "10-273.15"
   ]
  },
  {
   "cell_type": "code",
   "execution_count": null,
   "metadata": {
    "collapsed": true,
    "slideshow": {
     "slide_type": "slide"
    }
   },
   "outputs": [],
   "source": [
    "#Now write a function kelvin2celsius to convert from Kelvins to Celsius\n",
    "def kelvin2celsius(K):\n",
    "    \"\"\"Converts Kelvin Temperature to Celsius Temperature\n",
    "        Parameters\n",
    "        ----------\n",
    "        K: double\n",
    "            Kelvin Temperature\n",
    "        Returns\n",
    "        -------\n",
    "        :double\n",
    "            Celsius Temperature\n",
    "    \"\"\"\n",
    "    return K-273.15"
   ]
  },
  {
   "cell_type": "code",
   "execution_count": null,
   "metadata": {
    "collapsed": false
   },
   "outputs": [],
   "source": [
    "print kelvin2celsius(231)"
   ]
  },
  {
   "cell_type": "markdown",
   "metadata": {
    "slideshow": {
     "slide_type": "slide"
    }
   },
   "source": [
    "Why do you think the numbers differ? Is the function implemented correctly?\n",
    "I don't know, help!\n",
    "#### Implement functions to do the following conversions and test:\n",
    "* celsius2kelvin\n",
    "* celsius2Fahrenheit\n",
    "* fahrenheit2celsius\n",
    "\n",
    "Is one unit better than the other? Why?"
   ]
  },
  {
   "cell_type": "code",
   "execution_count": null,
   "metadata": {
    "collapsed": false,
    "slideshow": {
     "slide_type": "slide"
    }
   },
   "outputs": [],
   "source": [
    "#lets open the file using pandas\n",
    "import pandas as pd\n",
    "\n",
    "#this will vary depending on where you put the data\n",
    "#windows requires \\\\ for path seperation and to escape \\\n",
    "data_path = \"571549.csv\"\n",
    "\n",
    "df = pd.read_csv(data_path)"
   ]
  },
  {
   "cell_type": "code",
   "execution_count": null,
   "metadata": {
    "collapsed": false,
    "slideshow": {
     "slide_type": "slide"
    }
   },
   "outputs": [],
   "source": [
    "print df"
   ]
  },
  {
   "cell_type": "code",
   "execution_count": null,
   "metadata": {
    "collapsed": false,
    "slideshow": {
     "slide_type": "slide"
    }
   },
   "outputs": [],
   "source": [
    "print df.keys()"
   ]
  },
  {
   "cell_type": "code",
   "execution_count": null,
   "metadata": {
    "collapsed": false,
    "slideshow": {
     "slide_type": "slide"
    }
   },
   "outputs": [],
   "source": [
    "import numpy as np\n",
    "nyc_inds = [sn.endswith(\"NY US\") for sn in df['STATION_NAME']]\n",
    "nyc = df[nyc_inds]\n",
    "datakeys = [u'EMXP', u'MXSD', u'TPCP', u'TSNW', u'EMXT', u'EMNT', u'MMXT', u'MMNT', u'MNTM']\n",
    "for dk in datakeys:\n",
    "    nyc[dk][nyc[dk]==-9999]= np.nan\n",
    "\n",
    "nyc_agg = nyc.groupby('DATE').mean()"
   ]
  },
  {
   "cell_type": "code",
   "execution_count": null,
   "metadata": {
    "collapsed": false,
    "slideshow": {
     "slide_type": "slide"
    }
   },
   "outputs": [],
   "source": [
    "print nyc_agg"
   ]
  },
  {
   "cell_type": "code",
   "execution_count": null,
   "metadata": {
    "collapsed": false,
    "slideshow": {
     "slide_type": "slide"
    }
   },
   "outputs": [],
   "source": [
    "%matplotlib inline \n",
    "#embeds the graph in the notebook\n",
    "#readjust units into more common scale\n",
    "import matplotlib.pyplot as plt\n",
    "fig = plt.figure()\n",
    "ax = fig.add_subplot(1,1,1)\n",
    "(nyc_agg['MNTM']/10).plot(ax=ax, color='green')\n",
    "ax.set_ylabel(\"Mean Monthly Temperature (C)\")\n",
    "ax.set_xticklabels(['Jan','Feb','Mar','Apr','May','Jun'])\n",
    "#clean edge?\n",
    "ax.set_xlim((20150100,20150601)) #must be in same units as index\n",
    "ax.set_xlabel(\"\")#removes DATE"
   ]
  },
  {
   "cell_type": "markdown",
   "metadata": {
    "slideshow": {
     "slide_type": "slide"
    }
   },
   "source": [
    "### Data Types:     \n",
    "\n",
    "* MNTM - Monthly mean temperature\n",
    "* MMNT - Monthly Mean minimum temperature\n",
    "* MMXT - Monthly Mean maximum temperature\n",
    "* EMNT - Extreme minimum daily temperature\n",
    "* EMXT - Extreme maximum daily temperature\n",
    "* TPCP - Total precipitation\n",
    "* EMXP - Extreme maximum daily precipitation\n",
    "* TSNW - Total snow fall\n",
    "* MXSD - Maximum snow depth"
   ]
  },
  {
   "cell_type": "code",
   "execution_count": null,
   "metadata": {
    "collapsed": false,
    "slideshow": {
     "slide_type": "slide"
    }
   },
   "outputs": [],
   "source": [
    "import matplotlib.pyplot as plt\n",
    "fig = plt.figure()\n",
    "ax = fig.add_subplot(1,1,1)\n",
    "(nyc_agg['EMXP']/10).plot(ax=ax)\n",
    "ax.set_xticklabels(['Jan','Feb','Mar','Apr','May','Jun'])\n",
    "#clean edge?\n",
    "ax.set_xlim((20150100,20150601)) #must be in same units as index\n",
    "ax.set_xlabel(\"\")#removes DATE"
   ]
  },
  {
   "cell_type": "markdown",
   "metadata": {
    "slideshow": {
     "slide_type": "slide"
    }
   },
   "source": [
    "What else?\n",
    "======\n",
    "Students can look at notebooks while working:\n",
    " * https://github.com/story645/EAS213_2014\n",
    " * https://github.com/story645/EAS213_2015\n",
    " \n",
    "Piazza for questions:\n",
    " * https://piazza.com/class/ic5okd2ibvb3i?cid=15"
   ]
  },
  {
   "cell_type": "markdown",
   "metadata": {
    "slideshow": {
     "slide_type": "slide"
    }
   },
   "source": [
    "Other stuff\n",
    "===========\n",
    "* slides: https://github.com/damianavila/RISE\n",
    "* grading: https://github.com/jupyter/nbgrader\n",
    "* github classroom: https://classroom.github.com/\n",
    "* questions?"
   ]
  },
  {
   "cell_type": "code",
   "execution_count": null,
   "metadata": {
    "collapsed": true
   },
   "outputs": [],
   "source": [
    "np.math??"
   ]
  }
 ],
 "metadata": {
  "celltoolbar": "Slideshow",
  "kernelspec": {
   "display_name": "Python 2",
   "language": "python",
   "name": "python2"
  },
  "language_info": {
   "codemirror_mode": {
    "name": "ipython",
    "version": 2
   },
   "file_extension": ".py",
   "mimetype": "text/x-python",
   "name": "python",
   "nbconvert_exporter": "python",
   "pygments_lexer": "ipython2",
   "version": "2.7.11"
  }
 },
 "nbformat": 4,
 "nbformat_minor": 0
}
